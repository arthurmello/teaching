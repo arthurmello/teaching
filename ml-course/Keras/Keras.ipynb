{
 "cells": [
  {
   "cell_type": "code",
   "execution_count": null,
   "id": "aabad705",
   "metadata": {},
   "outputs": [],
   "source": [
    "#!pip install tensorflow==2.7.0\n",
    "#!pip uninstall pydot\n",
    "#!pip uninstall pydotplus\n",
    "#!pip uninstall graphviz\n",
    "\n",
    "#!pip install pydot\n",
    "#!pip install pydotplus\n",
    "#!conda install -c anaconda graphviz"
   ]
  },
  {
   "cell_type": "markdown",
   "id": "3cedf1d7",
   "metadata": {},
   "source": [
    "# Sequential API"
   ]
  },
  {
   "cell_type": "markdown",
   "id": "ad659609",
   "metadata": {},
   "source": [
    "## Exemple 1"
   ]
  },
  {
   "cell_type": "code",
   "execution_count": 1,
   "id": "f1cd314d",
   "metadata": {},
   "outputs": [],
   "source": [
    "from numpy import loadtxt\n",
    "from keras.models import Sequential\n",
    "from keras.layers import Dense"
   ]
  },
  {
   "cell_type": "code",
   "execution_count": 2,
   "id": "cb1d9104",
   "metadata": {},
   "outputs": [],
   "source": [
    "# on charge les données\n",
    "dataset = loadtxt('data.csv', delimiter=',')\n",
    "\n",
    "# split input et output\n",
    "X = dataset[:,0:8]\n",
    "y = dataset[:,8]"
   ]
  },
  {
   "cell_type": "markdown",
   "id": "cc65b444",
   "metadata": {},
   "source": [
    "Déscription du dataset : https://raw.githubusercontent.com/jbrownlee/Datasets/master/pima-indians-diabetes.names"
   ]
  },
  {
   "cell_type": "code",
   "execution_count": 3,
   "id": "1ad59e06",
   "metadata": {},
   "outputs": [],
   "source": [
    "# définition du modèle\n",
    "model = Sequential()\n",
    "model.add(Dense(12, input_dim=8, activation='relu'))\n",
    "model.add(Dense(8, activation='relu'))\n",
    "model.add(Dense(1, activation='sigmoid'))"
   ]
  },
  {
   "cell_type": "code",
   "execution_count": 4,
   "id": "c3ae2777",
   "metadata": {},
   "outputs": [
    {
     "name": "stdout",
     "output_type": "stream",
     "text": [
      "Epoch 1/150\n",
      "77/77 [==============================] - 1s 1ms/step - loss: 2.9749 - accuracy: 0.5755\n",
      "Epoch 2/150\n",
      "77/77 [==============================] - 0s 1ms/step - loss: 1.2105 - accuracy: 0.6419\n",
      "Epoch 3/150\n",
      "77/77 [==============================] - 0s 1ms/step - loss: 0.9819 - accuracy: 0.6406\n",
      "Epoch 4/150\n",
      "77/77 [==============================] - 0s 1ms/step - loss: 0.8829 - accuracy: 0.6367\n",
      "Epoch 5/150\n",
      "77/77 [==============================] - 0s 1ms/step - loss: 0.8256 - accuracy: 0.6419\n",
      "Epoch 6/150\n",
      "77/77 [==============================] - 0s 1ms/step - loss: 0.7926 - accuracy: 0.6393\n",
      "Epoch 7/150\n",
      "77/77 [==============================] - 0s 1ms/step - loss: 0.7589 - accuracy: 0.6445\n",
      "Epoch 8/150\n",
      "77/77 [==============================] - 0s 1ms/step - loss: 0.7380 - accuracy: 0.6393\n",
      "Epoch 9/150\n",
      "77/77 [==============================] - 0s 2ms/step - loss: 0.7148 - accuracy: 0.6458\n",
      "Epoch 10/150\n",
      "77/77 [==============================] - 0s 2ms/step - loss: 0.7036 - accuracy: 0.6419\n",
      "Epoch 11/150\n",
      "77/77 [==============================] - 0s 1ms/step - loss: 0.6892 - accuracy: 0.6471\n",
      "Epoch 12/150\n",
      "77/77 [==============================] - 0s 1ms/step - loss: 0.6729 - accuracy: 0.6510\n",
      "Epoch 13/150\n",
      "77/77 [==============================] - 0s 1ms/step - loss: 0.6420 - accuracy: 0.6693\n",
      "Epoch 14/150\n",
      "77/77 [==============================] - 0s 1ms/step - loss: 0.6435 - accuracy: 0.6628\n",
      "Epoch 15/150\n",
      "77/77 [==============================] - 0s 1ms/step - loss: 0.6342 - accuracy: 0.6680\n",
      "Epoch 16/150\n",
      "77/77 [==============================] - 0s 1ms/step - loss: 0.6316 - accuracy: 0.6693\n",
      "Epoch 17/150\n",
      "77/77 [==============================] - 0s 2ms/step - loss: 0.6185 - accuracy: 0.6797\n",
      "Epoch 18/150\n",
      "77/77 [==============================] - 0s 1ms/step - loss: 0.6145 - accuracy: 0.6784\n",
      "Epoch 19/150\n",
      "77/77 [==============================] - 0s 1ms/step - loss: 0.6101 - accuracy: 0.6823\n",
      "Epoch 20/150\n",
      "77/77 [==============================] - 0s 1ms/step - loss: 0.6071 - accuracy: 0.6758\n",
      "Epoch 21/150\n",
      "77/77 [==============================] - 0s 1ms/step - loss: 0.6073 - accuracy: 0.6810\n",
      "Epoch 22/150\n",
      "77/77 [==============================] - 0s 1ms/step - loss: 0.5984 - accuracy: 0.6836\n",
      "Epoch 23/150\n",
      "77/77 [==============================] - 0s 1ms/step - loss: 0.5976 - accuracy: 0.6888\n",
      "Epoch 24/150\n",
      "77/77 [==============================] - 0s 1ms/step - loss: 0.6036 - accuracy: 0.6914\n",
      "Epoch 25/150\n",
      "77/77 [==============================] - 0s 1ms/step - loss: 0.5918 - accuracy: 0.6979\n",
      "Epoch 26/150\n",
      "77/77 [==============================] - 0s 1ms/step - loss: 0.5973 - accuracy: 0.6862\n",
      "Epoch 27/150\n",
      "77/77 [==============================] - 0s 1ms/step - loss: 0.5950 - accuracy: 0.6797\n",
      "Epoch 28/150\n",
      "77/77 [==============================] - 0s 1ms/step - loss: 0.5863 - accuracy: 0.6940\n",
      "Epoch 29/150\n",
      "77/77 [==============================] - 0s 1ms/step - loss: 0.5920 - accuracy: 0.6875\n",
      "Epoch 30/150\n",
      "77/77 [==============================] - 0s 1ms/step - loss: 0.5884 - accuracy: 0.6979\n",
      "Epoch 31/150\n",
      "77/77 [==============================] - 0s 1ms/step - loss: 0.5867 - accuracy: 0.6849\n",
      "Epoch 32/150\n",
      "77/77 [==============================] - 0s 1ms/step - loss: 0.5801 - accuracy: 0.6979\n",
      "Epoch 33/150\n",
      "77/77 [==============================] - 0s 1ms/step - loss: 0.5846 - accuracy: 0.6979\n",
      "Epoch 34/150\n",
      "77/77 [==============================] - 0s 1ms/step - loss: 0.5891 - accuracy: 0.6888\n",
      "Epoch 35/150\n",
      "77/77 [==============================] - 0s 1ms/step - loss: 0.5814 - accuracy: 0.6927\n",
      "Epoch 36/150\n",
      "77/77 [==============================] - 0s 1ms/step - loss: 0.5762 - accuracy: 0.7109\n",
      "Epoch 37/150\n",
      "77/77 [==============================] - 0s 1ms/step - loss: 0.5846 - accuracy: 0.7005\n",
      "Epoch 38/150\n",
      "77/77 [==============================] - 0s 1ms/step - loss: 0.5742 - accuracy: 0.7005\n",
      "Epoch 39/150\n",
      "77/77 [==============================] - 0s 1ms/step - loss: 0.5783 - accuracy: 0.7031\n",
      "Epoch 40/150\n",
      "77/77 [==============================] - 0s 1ms/step - loss: 0.5790 - accuracy: 0.6927\n",
      "Epoch 41/150\n",
      "77/77 [==============================] - 0s 1ms/step - loss: 0.5685 - accuracy: 0.7135\n",
      "Epoch 42/150\n",
      "77/77 [==============================] - 0s 1ms/step - loss: 0.5702 - accuracy: 0.7018\n",
      "Epoch 43/150\n",
      "77/77 [==============================] - 0s 1ms/step - loss: 0.5849 - accuracy: 0.6888\n",
      "Epoch 44/150\n",
      "77/77 [==============================] - 0s 1ms/step - loss: 0.5684 - accuracy: 0.7031\n",
      "Epoch 45/150\n",
      "77/77 [==============================] - 0s 1ms/step - loss: 0.5631 - accuracy: 0.7031\n",
      "Epoch 46/150\n",
      "77/77 [==============================] - 0s 1ms/step - loss: 0.5666 - accuracy: 0.7057\n",
      "Epoch 47/150\n",
      "77/77 [==============================] - 0s 1ms/step - loss: 0.5636 - accuracy: 0.7018\n",
      "Epoch 48/150\n",
      "77/77 [==============================] - 0s 1ms/step - loss: 0.5620 - accuracy: 0.7161\n",
      "Epoch 49/150\n",
      "77/77 [==============================] - 0s 1ms/step - loss: 0.5629 - accuracy: 0.7161\n",
      "Epoch 50/150\n",
      "77/77 [==============================] - 0s 1ms/step - loss: 0.5657 - accuracy: 0.7122\n",
      "Epoch 51/150\n",
      "77/77 [==============================] - 0s 1ms/step - loss: 0.5637 - accuracy: 0.6953\n",
      "Epoch 52/150\n",
      "77/77 [==============================] - 0s 1ms/step - loss: 0.5655 - accuracy: 0.7057\n",
      "Epoch 53/150\n",
      "77/77 [==============================] - 0s 1ms/step - loss: 0.5666 - accuracy: 0.6927\n",
      "Epoch 54/150\n",
      "77/77 [==============================] - 0s 1ms/step - loss: 0.5606 - accuracy: 0.6979\n",
      "Epoch 55/150\n",
      "77/77 [==============================] - 0s 1ms/step - loss: 0.5562 - accuracy: 0.7201\n",
      "Epoch 56/150\n",
      "77/77 [==============================] - 0s 1ms/step - loss: 0.5554 - accuracy: 0.7148\n",
      "Epoch 57/150\n",
      "77/77 [==============================] - 0s 1ms/step - loss: 0.5613 - accuracy: 0.6966\n",
      "Epoch 58/150\n",
      "77/77 [==============================] - 0s 1ms/step - loss: 0.5575 - accuracy: 0.7096\n",
      "Epoch 59/150\n",
      "77/77 [==============================] - 0s 1ms/step - loss: 0.5560 - accuracy: 0.7135\n",
      "Epoch 60/150\n",
      "77/77 [==============================] - 0s 1ms/step - loss: 0.5519 - accuracy: 0.7161\n",
      "Epoch 61/150\n",
      "77/77 [==============================] - 0s 966us/step - loss: 0.5602 - accuracy: 0.7109\n",
      "Epoch 62/150\n",
      "77/77 [==============================] - 0s 1ms/step - loss: 0.5598 - accuracy: 0.7083\n",
      "Epoch 63/150\n",
      "77/77 [==============================] - 0s 1ms/step - loss: 0.5583 - accuracy: 0.7018\n",
      "Epoch 64/150\n",
      "77/77 [==============================] - 0s 1ms/step - loss: 0.5513 - accuracy: 0.7057\n",
      "Epoch 65/150\n",
      "77/77 [==============================] - 0s 1ms/step - loss: 0.5490 - accuracy: 0.7201\n",
      "Epoch 66/150\n",
      "77/77 [==============================] - 0s 1ms/step - loss: 0.5555 - accuracy: 0.7044\n",
      "Epoch 67/150\n",
      "77/77 [==============================] - 0s 1ms/step - loss: 0.5472 - accuracy: 0.7279\n",
      "Epoch 68/150\n",
      "77/77 [==============================] - 0s 1ms/step - loss: 0.5476 - accuracy: 0.7135\n",
      "Epoch 69/150\n",
      "77/77 [==============================] - 0s 1ms/step - loss: 0.5447 - accuracy: 0.7279\n",
      "Epoch 70/150\n",
      "77/77 [==============================] - 0s 959us/step - loss: 0.5553 - accuracy: 0.7057\n",
      "Epoch 71/150\n",
      "77/77 [==============================] - 0s 1ms/step - loss: 0.5593 - accuracy: 0.7057\n",
      "Epoch 72/150\n",
      "77/77 [==============================] - 0s 1ms/step - loss: 0.5527 - accuracy: 0.7122\n",
      "Epoch 73/150\n",
      "77/77 [==============================] - 0s 1ms/step - loss: 0.5605 - accuracy: 0.6927\n",
      "Epoch 74/150\n",
      "77/77 [==============================] - 0s 1ms/step - loss: 0.5487 - accuracy: 0.7122\n",
      "Epoch 75/150\n",
      "77/77 [==============================] - 0s 1ms/step - loss: 0.5516 - accuracy: 0.7122\n",
      "Epoch 76/150\n",
      "77/77 [==============================] - 0s 1ms/step - loss: 0.5489 - accuracy: 0.7201\n",
      "Epoch 77/150\n",
      "77/77 [==============================] - 0s 1ms/step - loss: 0.5433 - accuracy: 0.7161\n",
      "Epoch 78/150\n",
      "77/77 [==============================] - 0s 1ms/step - loss: 0.5489 - accuracy: 0.7083\n",
      "Epoch 79/150\n",
      "77/77 [==============================] - 0s 1ms/step - loss: 0.5499 - accuracy: 0.7174\n",
      "Epoch 80/150\n",
      "77/77 [==============================] - 0s 910us/step - loss: 0.5473 - accuracy: 0.7227\n",
      "Epoch 81/150\n",
      "77/77 [==============================] - 0s 1ms/step - loss: 0.5450 - accuracy: 0.7161\n",
      "Epoch 82/150\n",
      "77/77 [==============================] - 0s 976us/step - loss: 0.5475 - accuracy: 0.7188\n"
     ]
    },
    {
     "name": "stdout",
     "output_type": "stream",
     "text": [
      "Epoch 83/150\n",
      "77/77 [==============================] - 0s 1ms/step - loss: 0.5403 - accuracy: 0.7174\n",
      "Epoch 84/150\n",
      "77/77 [==============================] - 0s 1ms/step - loss: 0.5425 - accuracy: 0.7148\n",
      "Epoch 85/150\n",
      "77/77 [==============================] - 0s 1ms/step - loss: 0.5548 - accuracy: 0.7083\n",
      "Epoch 86/150\n",
      "77/77 [==============================] - 0s 1ms/step - loss: 0.5480 - accuracy: 0.7057\n",
      "Epoch 87/150\n",
      "77/77 [==============================] - 0s 1ms/step - loss: 0.5449 - accuracy: 0.7122\n",
      "Epoch 88/150\n",
      "77/77 [==============================] - 0s 1ms/step - loss: 0.5457 - accuracy: 0.7188\n",
      "Epoch 89/150\n",
      "77/77 [==============================] - 0s 1ms/step - loss: 0.5372 - accuracy: 0.7266\n",
      "Epoch 90/150\n",
      "77/77 [==============================] - 0s 1ms/step - loss: 0.5600 - accuracy: 0.7070\n",
      "Epoch 91/150\n",
      "77/77 [==============================] - 0s 1ms/step - loss: 0.5390 - accuracy: 0.7161\n",
      "Epoch 92/150\n",
      "77/77 [==============================] - 0s 1ms/step - loss: 0.5425 - accuracy: 0.7227\n",
      "Epoch 93/150\n",
      "77/77 [==============================] - 0s 1ms/step - loss: 0.5513 - accuracy: 0.7096\n",
      "Epoch 94/150\n",
      "77/77 [==============================] - 0s 1ms/step - loss: 0.5438 - accuracy: 0.7188\n",
      "Epoch 95/150\n",
      "77/77 [==============================] - 0s 1ms/step - loss: 0.5408 - accuracy: 0.7227\n",
      "Epoch 96/150\n",
      "77/77 [==============================] - 0s 1ms/step - loss: 0.5410 - accuracy: 0.7135\n",
      "Epoch 97/150\n",
      "77/77 [==============================] - 0s 1ms/step - loss: 0.5421 - accuracy: 0.7135\n",
      "Epoch 98/150\n",
      "77/77 [==============================] - 0s 1ms/step - loss: 0.5409 - accuracy: 0.7148\n",
      "Epoch 99/150\n",
      "77/77 [==============================] - 0s 1ms/step - loss: 0.5436 - accuracy: 0.7057\n",
      "Epoch 100/150\n",
      "77/77 [==============================] - 0s 1ms/step - loss: 0.5463 - accuracy: 0.7083\n",
      "Epoch 101/150\n",
      "77/77 [==============================] - 0s 1ms/step - loss: 0.5389 - accuracy: 0.7227\n",
      "Epoch 102/150\n",
      "77/77 [==============================] - 0s 1ms/step - loss: 0.5347 - accuracy: 0.7135\n",
      "Epoch 103/150\n",
      "77/77 [==============================] - 0s 1ms/step - loss: 0.5572 - accuracy: 0.7096\n",
      "Epoch 104/150\n",
      "77/77 [==============================] - 0s 1ms/step - loss: 0.5516 - accuracy: 0.7044\n",
      "Epoch 105/150\n",
      "77/77 [==============================] - 0s 1ms/step - loss: 0.5441 - accuracy: 0.7201\n",
      "Epoch 106/150\n",
      "77/77 [==============================] - 0s 876us/step - loss: 0.5379 - accuracy: 0.7057\n",
      "Epoch 107/150\n",
      "77/77 [==============================] - 0s 1ms/step - loss: 0.5463 - accuracy: 0.7253\n",
      "Epoch 108/150\n",
      "77/77 [==============================] - 0s 1ms/step - loss: 0.5369 - accuracy: 0.7227\n",
      "Epoch 109/150\n",
      "77/77 [==============================] - 0s 1ms/step - loss: 0.5335 - accuracy: 0.7227\n",
      "Epoch 110/150\n",
      "77/77 [==============================] - 0s 1ms/step - loss: 0.5481 - accuracy: 0.7148\n",
      "Epoch 111/150\n",
      "77/77 [==============================] - 0s 1ms/step - loss: 0.5324 - accuracy: 0.7148\n",
      "Epoch 112/150\n",
      "77/77 [==============================] - 0s 1ms/step - loss: 0.5326 - accuracy: 0.7083\n",
      "Epoch 113/150\n",
      "77/77 [==============================] - 0s 1ms/step - loss: 0.5337 - accuracy: 0.7266\n",
      "Epoch 114/150\n",
      "77/77 [==============================] - 0s 1ms/step - loss: 0.5393 - accuracy: 0.7148\n",
      "Epoch 115/150\n",
      "77/77 [==============================] - 0s 1ms/step - loss: 0.5394 - accuracy: 0.7161\n",
      "Epoch 116/150\n",
      "77/77 [==============================] - 0s 1ms/step - loss: 0.5345 - accuracy: 0.7253\n",
      "Epoch 117/150\n",
      "77/77 [==============================] - 0s 1ms/step - loss: 0.5407 - accuracy: 0.7201\n",
      "Epoch 118/150\n",
      "77/77 [==============================] - 0s 1ms/step - loss: 0.5359 - accuracy: 0.7240\n",
      "Epoch 119/150\n",
      "77/77 [==============================] - 0s 1ms/step - loss: 0.5453 - accuracy: 0.7083\n",
      "Epoch 120/150\n",
      "77/77 [==============================] - 0s 1ms/step - loss: 0.5292 - accuracy: 0.7292\n",
      "Epoch 121/150\n",
      "77/77 [==============================] - 0s 1ms/step - loss: 0.5375 - accuracy: 0.7174\n",
      "Epoch 122/150\n",
      "77/77 [==============================] - 0s 1ms/step - loss: 0.5376 - accuracy: 0.7174\n",
      "Epoch 123/150\n",
      "77/77 [==============================] - 0s 1ms/step - loss: 0.5371 - accuracy: 0.7174\n",
      "Epoch 124/150\n",
      "77/77 [==============================] - 0s 1ms/step - loss: 0.5344 - accuracy: 0.7161\n",
      "Epoch 125/150\n",
      "77/77 [==============================] - 0s 1ms/step - loss: 0.5372 - accuracy: 0.7161\n",
      "Epoch 126/150\n",
      "77/77 [==============================] - 0s 1ms/step - loss: 0.5379 - accuracy: 0.7135\n",
      "Epoch 127/150\n",
      "77/77 [==============================] - 0s 1ms/step - loss: 0.5329 - accuracy: 0.7174\n",
      "Epoch 128/150\n",
      "77/77 [==============================] - 0s 1ms/step - loss: 0.5337 - accuracy: 0.7253\n",
      "Epoch 129/150\n",
      "77/77 [==============================] - 0s 1ms/step - loss: 0.5287 - accuracy: 0.7227\n",
      "Epoch 130/150\n",
      "77/77 [==============================] - 0s 1ms/step - loss: 0.5359 - accuracy: 0.7227\n",
      "Epoch 131/150\n",
      "77/77 [==============================] - 0s 1ms/step - loss: 0.5390 - accuracy: 0.7174\n",
      "Epoch 132/150\n",
      "77/77 [==============================] - 0s 1ms/step - loss: 0.5443 - accuracy: 0.7148\n",
      "Epoch 133/150\n",
      "77/77 [==============================] - 0s 909us/step - loss: 0.5339 - accuracy: 0.7174\n",
      "Epoch 134/150\n",
      "77/77 [==============================] - 0s 1ms/step - loss: 0.5317 - accuracy: 0.7148\n",
      "Epoch 135/150\n",
      "77/77 [==============================] - 0s 1ms/step - loss: 0.5274 - accuracy: 0.7174\n",
      "Epoch 136/150\n",
      "77/77 [==============================] - 0s 1ms/step - loss: 0.5292 - accuracy: 0.7174\n",
      "Epoch 137/150\n",
      "77/77 [==============================] - 0s 1ms/step - loss: 0.5287 - accuracy: 0.7188\n",
      "Epoch 138/150\n",
      "77/77 [==============================] - 0s 1ms/step - loss: 0.5388 - accuracy: 0.7122\n",
      "Epoch 139/150\n",
      "77/77 [==============================] - 0s 1ms/step - loss: 0.5299 - accuracy: 0.7240\n",
      "Epoch 140/150\n",
      "77/77 [==============================] - 0s 1ms/step - loss: 0.5299 - accuracy: 0.7161\n",
      "Epoch 141/150\n",
      "77/77 [==============================] - 0s 1ms/step - loss: 0.5283 - accuracy: 0.7122\n",
      "Epoch 142/150\n",
      "77/77 [==============================] - 0s 1ms/step - loss: 0.5348 - accuracy: 0.7044\n",
      "Epoch 143/150\n",
      "77/77 [==============================] - 0s 1ms/step - loss: 0.5381 - accuracy: 0.7174\n",
      "Epoch 144/150\n",
      "77/77 [==============================] - 0s 1ms/step - loss: 0.5390 - accuracy: 0.7122\n",
      "Epoch 145/150\n",
      "77/77 [==============================] - 0s 1ms/step - loss: 0.5315 - accuracy: 0.7122\n",
      "Epoch 146/150\n",
      "77/77 [==============================] - 0s 1ms/step - loss: 0.5275 - accuracy: 0.7266\n",
      "Epoch 147/150\n",
      "77/77 [==============================] - 0s 1ms/step - loss: 0.5289 - accuracy: 0.7201\n",
      "Epoch 148/150\n",
      "77/77 [==============================] - 0s 1ms/step - loss: 0.5311 - accuracy: 0.7214\n",
      "Epoch 149/150\n",
      "77/77 [==============================] - 0s 1ms/step - loss: 0.5248 - accuracy: 0.7161\n",
      "Epoch 150/150\n",
      "77/77 [==============================] - 0s 1ms/step - loss: 0.5275 - accuracy: 0.7279\n"
     ]
    },
    {
     "data": {
      "text/plain": [
       "<keras.callbacks.History at 0x1f5d948be50>"
      ]
     },
     "execution_count": 4,
     "metadata": {},
     "output_type": "execute_result"
    }
   ],
   "source": [
    "# on compile le modèle\n",
    "model.compile(loss='binary_crossentropy', optimizer='adam', metrics=['accuracy'])\n",
    "\n",
    "# on entraîne le modèle avec nos données\n",
    "model.fit(X, y, epochs=150, batch_size=10)"
   ]
  },
  {
   "cell_type": "code",
   "execution_count": 5,
   "id": "94eb560b",
   "metadata": {},
   "outputs": [
    {
     "name": "stdout",
     "output_type": "stream",
     "text": [
      "24/24 [==============================] - 0s 1ms/step - loss: 0.5228 - accuracy: 0.7201\n",
      "Accuracy: 72.01\n"
     ]
    }
   ],
   "source": [
    "# évaluation du modèle\n",
    "_, accuracy = model.evaluate(X, y)\n",
    "print('Accuracy: %.2f' % (accuracy*100))"
   ]
  },
  {
   "cell_type": "code",
   "execution_count": 6,
   "id": "5aca24eb",
   "metadata": {},
   "outputs": [],
   "source": [
    "# on calcule les probabilités\n",
    "predictions = model.predict(X)\n",
    "\n",
    "# on fait des prévisions avec ces probabilités\n",
    "predictions = (model.predict(X) > 0.5).astype(int)"
   ]
  },
  {
   "cell_type": "code",
   "execution_count": 7,
   "id": "eb8d4d56",
   "metadata": {},
   "outputs": [
    {
     "name": "stdout",
     "output_type": "stream",
     "text": [
      "[6.0, 148.0, 72.0, 35.0, 0.0, 33.6, 0.627, 50.0] => 1 (expected 1)\n",
      "[1.0, 85.0, 66.0, 29.0, 0.0, 26.6, 0.351, 31.0] => 0 (expected 0)\n",
      "[8.0, 183.0, 64.0, 0.0, 0.0, 23.3, 0.672, 32.0] => 1 (expected 1)\n",
      "[1.0, 89.0, 66.0, 23.0, 94.0, 28.1, 0.167, 21.0] => 0 (expected 0)\n",
      "[0.0, 137.0, 40.0, 35.0, 168.0, 43.1, 2.288, 33.0] => 1 (expected 1)\n"
     ]
    }
   ],
   "source": [
    "# résumé des 5 premiers exemples\n",
    "for i in range(5):\n",
    "    print('%s => %d (expected %d)' % (X[i].tolist(), predictions[i], y[i]))"
   ]
  },
  {
   "cell_type": "markdown",
   "id": "1398356a",
   "metadata": {},
   "source": [
    "## Exemple 2"
   ]
  },
  {
   "cell_type": "code",
   "execution_count": 8,
   "id": "6ffb0794",
   "metadata": {},
   "outputs": [],
   "source": [
    "from keras.datasets import mnist\n",
    "from keras.layers import Dropout, Flatten"
   ]
  },
  {
   "cell_type": "code",
   "execution_count": 9,
   "id": "bf13c4fd",
   "metadata": {},
   "outputs": [],
   "source": [
    "(x_train, y_train), (x_test, y_test) = mnist.load_data()\n",
    "x_train, x_test = x_train / 255.0, x_test / 255.0"
   ]
  },
  {
   "cell_type": "code",
   "execution_count": 10,
   "id": "116f93ed",
   "metadata": {},
   "outputs": [],
   "source": [
    "model = Sequential([\n",
    "  Flatten(input_shape=(28, 28)),\n",
    "  Dense(128, activation='relu'),\n",
    "  Dropout(0.2),\n",
    "  Dense(10)\n",
    "])"
   ]
  },
  {
   "cell_type": "code",
   "execution_count": 11,
   "id": "afe75f61",
   "metadata": {},
   "outputs": [
    {
     "data": {
      "text/plain": [
       "array([[-0.27287158, -0.09618678,  0.53182447, -0.18375345, -0.14511439,\n",
       "        -0.05160946, -0.19206637, -0.44423977,  0.16892157,  0.05681425]],\n",
       "      dtype=float32)"
      ]
     },
     "execution_count": 11,
     "metadata": {},
     "output_type": "execute_result"
    }
   ],
   "source": [
    "predictions = model(x_train[:1]).numpy()\n",
    "predictions"
   ]
  },
  {
   "cell_type": "markdown",
   "id": "f9a849d3",
   "metadata": {},
   "source": [
    "# Functional API"
   ]
  },
  {
   "cell_type": "markdown",
   "id": "23c21136",
   "metadata": {},
   "source": [
    "L'API \"Functional\" de Keras est plus flexible dans la définition des modèles.\n",
    "\n",
    "Plus spécifiquement, il nous permet de définir des modèles avec des \"inputs\" ou \"outputs\" multiples, ainsi que des modèles qui partagent des couches (\"shared layers\").\n",
    "\n",
    "Les modèles sont définis en créant les couches et en les connectant directement entre elles. Ensuite, on définit un modèle et on spécifie les couches qui seront utilisés comme \"input\" et \"output\"."
   ]
  },
  {
   "cell_type": "code",
   "execution_count": 12,
   "id": "487b2970",
   "metadata": {},
   "outputs": [],
   "source": [
    "from keras.layers import Input, Dense\n",
    "from keras.models import Model"
   ]
  },
  {
   "cell_type": "markdown",
   "id": "5447f63b",
   "metadata": {},
   "source": [
    "## La définition des inputs\n",
    "Différement du modéle Sequential, on doit créer et définir une couche \"Input\" pour spécifier le format des données d'entrée.\n",
    "Pour définir ce format, on fournie un tuple à la couche d'entrée.\n",
    "\n",
    "Quand les données d'entrée sont multidimensionnelles, comme pour un Perceptron multi-couches, le format doit explicitement laisser de l'espace pour la taille du mini-batch, utilisé pour splitter les données lors de l'entraînement. Ainsi, le tuple est toujours défini avec une dérnière dimension vide quand l'input est uni-dimensionnel. Par exemple, (2,)."
   ]
  },
  {
   "cell_type": "code",
   "execution_count": 13,
   "id": "d178cc8c",
   "metadata": {},
   "outputs": [],
   "source": [
    "visible = Input(shape=(2,))"
   ]
  },
  {
   "cell_type": "markdown",
   "id": "4c1af5f4",
   "metadata": {},
   "source": [
    "## La connéction des couches\n",
    "Les couches sont connectées par paires.\n",
    "\n",
    "Cela est fait en spécifiant l'origine de l'input dès que l'on définit une nouvelle couche.\n",
    "\n",
    "Regardons un petit exemple. Nous créons l'input comme on l'a fait dans l'exemple précedent, et ensuite on crée une couche cachée en utilisant Dense, qui reçoit l'input de la couche input."
   ]
  },
  {
   "cell_type": "code",
   "execution_count": 14,
   "id": "677b5667",
   "metadata": {},
   "outputs": [],
   "source": [
    "visible = Input(shape=(2,))\n",
    "hidden = Dense(2)(visible)"
   ]
  },
  {
   "cell_type": "markdown",
   "id": "173446bd",
   "metadata": {},
   "source": [
    "## La création du modèle\n",
    "Après avoir crée les couches du modèle et les avoir connectées, il faut définir le modèle.\n",
    "\n",
    "Dans Keras, il existe une classe \"Model\", utilisé pour créer un modèle à partir des couches. Il faut spécifier uniquement les couches d'entrée et de sortie."
   ]
  },
  {
   "cell_type": "code",
   "execution_count": 15,
   "id": "9811a311",
   "metadata": {},
   "outputs": [
    {
     "name": "stdout",
     "output_type": "stream",
     "text": [
      "Model: \"model\"\n",
      "_________________________________________________________________\n",
      " Layer (type)                Output Shape              Param #   \n",
      "=================================================================\n",
      " input_3 (InputLayer)        [(None, 2)]               0         \n",
      "                                                                 \n",
      " dense_6 (Dense)             (None, 2)                 6         \n",
      "                                                                 \n",
      "=================================================================\n",
      "Total params: 6\n",
      "Trainable params: 6\n",
      "Non-trainable params: 0\n",
      "_________________________________________________________________\n",
      "None\n"
     ]
    }
   ],
   "source": [
    "visible = Input(shape=(2,))\n",
    "hidden = Dense(2)(visible)\n",
    "model = Model(inputs=visible, outputs=hidden)\n",
    "print(model.summary())"
   ]
  },
  {
   "cell_type": "markdown",
   "id": "df93fecc",
   "metadata": {},
   "source": [
    "## Standard Network Models"
   ]
  },
  {
   "cell_type": "markdown",
   "id": "321b75fc",
   "metadata": {},
   "source": [
    "### Multilayer Perceptron\n",
    "Regardons un modèle du type \"Multilayer Perceptron\" pour faire de la classification binaire.\n",
    "\n",
    "Le modèle a 10 inputs, 3 couches cachées avec 10, 20 e 10 neurons, et une couche de sorte avec 1 output. \n",
    "\n",
    "Pour chaque couche cachée, on utilise un fonction d'activation du type \"Unité Linéaire Rectifiée\" (ou ReLU), et une fonction d'activation du type \"Sigmoid\" pour la sortie."
   ]
  },
  {
   "cell_type": "code",
   "execution_count": 16,
   "id": "62eae884",
   "metadata": {},
   "outputs": [
    {
     "name": "stdout",
     "output_type": "stream",
     "text": [
      "Model: \"model_1\"\n",
      "_________________________________________________________________\n",
      " Layer (type)                Output Shape              Param #   \n",
      "=================================================================\n",
      " input_4 (InputLayer)        [(None, 10)]              0         \n",
      "                                                                 \n",
      " dense_7 (Dense)             (None, 10)                110       \n",
      "                                                                 \n",
      " dense_8 (Dense)             (None, 20)                220       \n",
      "                                                                 \n",
      " dense_9 (Dense)             (None, 10)                210       \n",
      "                                                                 \n",
      " dense_10 (Dense)            (None, 1)                 11        \n",
      "                                                                 \n",
      "=================================================================\n",
      "Total params: 551\n",
      "Trainable params: 551\n",
      "Non-trainable params: 0\n",
      "_________________________________________________________________\n",
      "None\n"
     ]
    },
    {
     "data": {
      "image/png": "[encoded data removed]",
      "text/plain": [
       "<IPython.core.display.Image object>"
      ]
     },
     "execution_count": 16,
     "metadata": {},
     "output_type": "execute_result"
    }
   ],
   "source": [
    "from keras.utils.vis_utils import plot_model\n",
    "\n",
    "visible = Input(shape=(10,))\n",
    "hidden1 = Dense(10, activation='relu')(visible)\n",
    "hidden2 = Dense(20, activation='relu')(hidden1)\n",
    "hidden3 = Dense(10, activation='relu')(hidden2)\n",
    "output = Dense(1, activation='sigmoid')(hidden3)\n",
    "model = Model(inputs=visible, outputs=output)\n",
    "\n",
    "# summary du modèle\n",
    "print(model.summary())\n",
    "\n",
    "# graph\n",
    "plot_model(model, to_file='img/multilayer_perceptron_graph.png')"
   ]
  },
  {
   "cell_type": "markdown",
   "id": "c394951a",
   "metadata": {},
   "source": [
    "### CNN\n",
    "Les CNN, ou réseaux de neurones convolutifs sont plus souvent utilisés pour la classification d'images.\n",
    "\n",
    "Le modèle prend en entrée des images en noir et blanc, de 64x64, et a une séquence de 2 couches convolutives et 2 couches de \"pooling\" pour l'extraction des features, suivies par une couche \"fully-connected\" (Dense) pour interpréter ces couches et une couche de sortie avec un fonction d'activation du type \"sigmoid\" pour une classification binaire."
   ]
  },
  {
   "cell_type": "code",
   "execution_count": 17,
   "id": "e2fbdd6f",
   "metadata": {},
   "outputs": [
    {
     "name": "stdout",
     "output_type": "stream",
     "text": [
      "Model: \"model_2\"\n",
      "_________________________________________________________________\n",
      " Layer (type)                Output Shape              Param #   \n",
      "=================================================================\n",
      " input_5 (InputLayer)        [(None, 64, 64, 1)]       0         \n",
      "                                                                 \n",
      " conv2d (Conv2D)             (None, 61, 61, 32)        544       \n",
      "                                                                 \n",
      " max_pooling2d (MaxPooling2D  (None, 30, 30, 32)       0         \n",
      " )                                                               \n",
      "                                                                 \n",
      " conv2d_1 (Conv2D)           (None, 27, 27, 16)        8208      \n",
      "                                                                 \n",
      " max_pooling2d_1 (MaxPooling  (None, 13, 13, 16)       0         \n",
      " 2D)                                                             \n",
      "                                                                 \n",
      " flatten_1 (Flatten)         (None, 2704)              0         \n",
      "                                                                 \n",
      " dense_11 (Dense)            (None, 10)                27050     \n",
      "                                                                 \n",
      " dense_12 (Dense)            (None, 1)                 11        \n",
      "                                                                 \n",
      "=================================================================\n",
      "Total params: 35,813\n",
      "Trainable params: 35,813\n",
      "Non-trainable params: 0\n",
      "_________________________________________________________________\n",
      "None\n"
     ]
    },
    {
     "data": {
      "image/png": "[encoded data removed]",
      "text/plain": [
       "<IPython.core.display.Image object>"
      ]
     },
     "execution_count": 17,
     "metadata": {},
     "output_type": "execute_result"
    }
   ],
   "source": [
    "from keras.layers.convolutional import Conv2D\n",
    "from keras.layers.pooling import MaxPooling2D\n",
    "from keras.layers import Flatten\n",
    "\n",
    "visible = Input(shape=(64,64,1))\n",
    "conv1 = Conv2D(32, kernel_size=4, activation='relu')(visible)\n",
    "pool1 = MaxPooling2D(pool_size=(2, 2))(conv1)\n",
    "conv2 = Conv2D(16, kernel_size=4, activation='relu')(pool1)\n",
    "pool2 = MaxPooling2D(pool_size=(2, 2))(conv2)\n",
    "flat = Flatten()(pool2)\n",
    "hidden1 = Dense(10, activation='relu')(flat)\n",
    "output = Dense(1, activation='sigmoid')(hidden1)\n",
    "model = Model(inputs=visible, outputs=output)\n",
    "\n",
    "# summary du modèle\n",
    "print(model.summary())\n",
    "\n",
    "# graph\n",
    "plot_model(model, to_file='img/convolutional_neural_network.png')"
   ]
  },
  {
   "cell_type": "markdown",
   "id": "707aff0e",
   "metadata": {},
   "source": [
    "### RNN\n",
    "Maintenant, nous alons créer un réseau de neurones récurrents du type LSTM (Long Short-Term Memory), pour classifier des séquences.\n",
    "\n",
    "Le modèle prend en entrée 100 steps d'une même feature. Le modèle a une seule couche LSTM cachée pour extraire des features de la séquence, suivie par une couche du type \"fully connected\" pour interpréter la sortie de la LSTM, suivie par une couhce de sortie pour des prédictions binaires."
   ]
  },
  {
   "cell_type": "code",
   "execution_count": 18,
   "id": "02d06d51",
   "metadata": {},
   "outputs": [
    {
     "name": "stdout",
     "output_type": "stream",
     "text": [
      "Model: \"model_3\"\n",
      "_________________________________________________________________\n",
      " Layer (type)                Output Shape              Param #   \n",
      "=================================================================\n",
      " input_6 (InputLayer)        [(None, 100, 1)]          0         \n",
      "                                                                 \n",
      " lstm (LSTM)                 (None, 10)                480       \n",
      "                                                                 \n",
      " dense_13 (Dense)            (None, 10)                110       \n",
      "                                                                 \n",
      " dense_14 (Dense)            (None, 1)                 11        \n",
      "                                                                 \n",
      "=================================================================\n",
      "Total params: 601\n",
      "Trainable params: 601\n",
      "Non-trainable params: 0\n",
      "_________________________________________________________________\n",
      "None\n"
     ]
    },
    {
     "data": {
      "image/png": "[encoded data removed]",
      "text/plain": [
       "<IPython.core.display.Image object>"
      ]
     },
     "execution_count": 18,
     "metadata": {},
     "output_type": "execute_result"
    }
   ],
   "source": [
    "from keras.layers.recurrent import LSTM\n",
    "\n",
    "visible = Input(shape=(100,1))\n",
    "hidden1 = LSTM(10)(visible)\n",
    "hidden2 = Dense(10, activation='relu')(hidden1)\n",
    "output = Dense(1, activation='sigmoid')(hidden2)\n",
    "model = Model(inputs=visible, outputs=output)\n",
    "\n",
    "# summary du modèle\n",
    "print(model.summary())\n",
    "              \n",
    "# graph\n",
    "plot_model(model, to_file='img/recurrent_neural_network.png')"
   ]
  },
  {
   "cell_type": "markdown",
   "id": "2e307cb5",
   "metadata": {},
   "source": [
    "### Shared Layers Model\n",
    "Plusieurs couches peuvent partager la sortie d'une couche.\n",
    "\n",
    "Par exemple, on peut avoir plusieurs couches d'extraction de features d'un même input, ou plusieurs couches pour interpréter la sortue d'une couche d'extraction de features.\n",
    "\n",
    "Regardons ces 2 exemples plus en détail."
   ]
  },
  {
   "cell_type": "markdown",
   "id": "1032277c",
   "metadata": {},
   "source": [
    "#### Shared input layer\n",
    "Nous alons créer plusieurs couches de convolution avec des kernels de différentes tailles pour interpréter un image.\n",
    "\n",
    "Le modèle prend des images en noir & blanc, et 64x64 pixels. Il y a 2 sub-modèles du type CNN d'extraction de features qui partagent cet input; le premier a un kernel de taille 4 et le 2ème un kernel de taille 8. Les sorties de ces submodèles d'extraction de features sont applatis en vecteurs et concatenés pour former un long vecteur, et après sont utilisés par une couche du type \"fully connected\" pour être interpretés avant qu'une couche finale de sortie fasse une classification binaire."
   ]
  },
  {
   "cell_type": "code",
   "execution_count": 19,
   "id": "f4d43500",
   "metadata": {},
   "outputs": [
    {
     "name": "stdout",
     "output_type": "stream",
     "text": [
      "Model: \"model_4\"\n",
      "__________________________________________________________________________________________________\n",
      " Layer (type)                   Output Shape         Param #     Connected to                     \n",
      "==================================================================================================\n",
      " input_7 (InputLayer)           [(None, 64, 64, 1)]  0           []                               \n",
      "                                                                                                  \n",
      " conv2d_2 (Conv2D)              (None, 61, 61, 32)   544         ['input_7[0][0]']                \n",
      "                                                                                                  \n",
      " conv2d_3 (Conv2D)              (None, 57, 57, 16)   1040        ['input_7[0][0]']                \n",
      "                                                                                                  \n",
      " max_pooling2d_2 (MaxPooling2D)  (None, 30, 30, 32)  0           ['conv2d_2[0][0]']               \n",
      "                                                                                                  \n",
      " max_pooling2d_3 (MaxPooling2D)  (None, 28, 28, 16)  0           ['conv2d_3[0][0]']               \n",
      "                                                                                                  \n",
      " flatten_2 (Flatten)            (None, 28800)        0           ['max_pooling2d_2[0][0]']        \n",
      "                                                                                                  \n",
      " flatten_3 (Flatten)            (None, 12544)        0           ['max_pooling2d_3[0][0]']        \n",
      "                                                                                                  \n",
      " concatenate (Concatenate)      (None, 41344)        0           ['flatten_2[0][0]',              \n",
      "                                                                  'flatten_3[0][0]']              \n",
      "                                                                                                  \n",
      " dense_15 (Dense)               (None, 10)           413450      ['concatenate[0][0]']            \n",
      "                                                                                                  \n",
      " dense_16 (Dense)               (None, 1)            11          ['dense_15[0][0]']               \n",
      "                                                                                                  \n",
      "==================================================================================================\n",
      "Total params: 415,045\n",
      "Trainable params: 415,045\n",
      "Non-trainable params: 0\n",
      "__________________________________________________________________________________________________\n",
      "None\n"
     ]
    },
    {
     "data": {
      "image/png": "[encoded data removed]",
      "text/plain": [
       "<IPython.core.display.Image object>"
      ]
     },
     "execution_count": 19,
     "metadata": {},
     "output_type": "execute_result"
    }
   ],
   "source": [
    "from keras.layers.merge import concatenate\n",
    "\n",
    "# input layer\n",
    "visible = Input(shape=(64,64,1))\n",
    "\n",
    "# 1er feature extractor\n",
    "conv1 = Conv2D(32, kernel_size=4, activation='relu')(visible)\n",
    "pool1 = MaxPooling2D(pool_size=(2, 2))(conv1)\n",
    "flat1 = Flatten()(pool1)\n",
    "\n",
    "# 2ème feature extractor\n",
    "conv2 = Conv2D(16, kernel_size=8, activation='relu')(visible)\n",
    "pool2 = MaxPooling2D(pool_size=(2, 2))(conv2)\n",
    "flat2 = Flatten()(pool2)\n",
    "\n",
    "# concatenation des \"feature extractors\"\n",
    "merge = concatenate([flat1, flat2])\n",
    "\n",
    "# couche d'interprétation\n",
    "hidden1 = Dense(10, activation='relu')(merge)\n",
    "\n",
    "# output\n",
    "output = Dense(1, activation='sigmoid')(hidden1)\n",
    "model = Model(inputs=visible, outputs=output)\n",
    "\n",
    "# summary du modèle\n",
    "print(model.summary())\n",
    "\n",
    "# graph\n",
    "plot_model(model, to_file='img/shared_input_layer.png')"
   ]
  },
  {
   "cell_type": "markdown",
   "id": "803d3987",
   "metadata": {},
   "source": [
    "#### Shared Feature Extraction Layer\n",
    "Nous allons créer 2 sub-modèles parallels pour interpréter la sortie d'un extracteur de features, pour faire une classification de séquences.\n",
    "\n",
    "L'input du modèle est composé par 100 \"time steps\" d'une feature. Une couche LSTM avec 10 célules de mémore interprète cette séquence. Le premier modèle d'interprétation est une couche du type \"fully connected\"; le 2ème est un modèle profond de 3 couches. La sortie des 2 modèles d'interprétation sont concatenés pour former un long vecteur, qui est ensuite utilisé par la couche finale de sortie pour faire une classification binaire."
   ]
  },
  {
   "cell_type": "code",
   "execution_count": 21,
   "id": "50b1b9ec",
   "metadata": {},
   "outputs": [
    {
     "name": "stdout",
     "output_type": "stream",
     "text": [
      "Model: \"model_5\"\n",
      "__________________________________________________________________________________________________\n",
      " Layer (type)                   Output Shape         Param #     Connected to                     \n",
      "==================================================================================================\n",
      " input_9 (InputLayer)           [(None, 100, 1)]     0           []                               \n",
      "                                                                                                  \n",
      " lstm_2 (LSTM)                  (None, 10)           480         ['input_9[0][0]']                \n",
      "                                                                                                  \n",
      " dense_22 (Dense)               (None, 10)           110         ['lstm_2[0][0]']                 \n",
      "                                                                                                  \n",
      " dense_23 (Dense)               (None, 20)           220         ['dense_22[0][0]']               \n",
      "                                                                                                  \n",
      " dense_21 (Dense)               (None, 10)           110         ['lstm_2[0][0]']                 \n",
      "                                                                                                  \n",
      " dense_24 (Dense)               (None, 10)           210         ['dense_23[0][0]']               \n",
      "                                                                                                  \n",
      " concatenate_1 (Concatenate)    (None, 20)           0           ['dense_21[0][0]',               \n",
      "                                                                  'dense_24[0][0]']               \n",
      "                                                                                                  \n",
      " dense_25 (Dense)               (None, 1)            21          ['concatenate_1[0][0]']          \n",
      "                                                                                                  \n",
      "==================================================================================================\n",
      "Total params: 1,151\n",
      "Trainable params: 1,151\n",
      "Non-trainable params: 0\n",
      "__________________________________________________________________________________________________\n",
      "None\n"
     ]
    },
    {
     "data": {
      "image/png": "[encoded data removed]",
      "text/plain": [
       "<IPython.core.display.Image object>"
      ]
     },
     "execution_count": 21,
     "metadata": {},
     "output_type": "execute_result"
    }
   ],
   "source": [
    "# input layer\n",
    "visible = Input(shape=(100,1))\n",
    "\n",
    "# feature extractor\n",
    "extract1 = LSTM(10)(visible)\n",
    "\n",
    "# 1er modèle d'interpretation\n",
    "interp1 = Dense(10, activation='relu')(extract1)\n",
    "\n",
    "# 2ème modèle d'interpretation\n",
    "interp11 = Dense(10, activation='relu')(extract1)\n",
    "interp12 = Dense(20, activation='relu')(interp11)\n",
    "interp13 = Dense(10, activation='relu')(interp12)\n",
    "\n",
    "# concatenation des couches d'interprétation\n",
    "merge = concatenate([interp1, interp13])\n",
    "\n",
    "# output\n",
    "output = Dense(1, activation='sigmoid')(merge)\n",
    "model = Model(inputs=visible, outputs=output)\n",
    "\n",
    "# summary do modèle\n",
    "print(model.summary())\n",
    "\n",
    "# graph\n",
    "plot_model(model, to_file='img/shared_feature_extractor.png')"
   ]
  },
  {
   "cell_type": "code",
   "execution_count": null,
   "id": "a0c29320",
   "metadata": {},
   "outputs": [],
   "source": []
  }
 ],
 "metadata": {
  "kernelspec": {
   "display_name": "Python 3",
   "language": "python",
   "name": "python3"
  },
  "language_info": {
   "codemirror_mode": {
    "name": "ipython",
    "version": 3
   },
   "file_extension": ".py",
   "mimetype": "text/x-python",
   "name": "python",
   "nbconvert_exporter": "python",
   "pygments_lexer": "ipython3",
   "version": "3.8.8"
  }
 },
 "nbformat": 4,
 "nbformat_minor": 5
}
