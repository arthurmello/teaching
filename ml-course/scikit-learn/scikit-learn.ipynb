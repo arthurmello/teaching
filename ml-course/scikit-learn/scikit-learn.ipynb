{
 "cells": [
  {
   "cell_type": "markdown",
   "id": "d51610ec",
   "metadata": {},
   "source": [
    "# Importations"
   ]
  },
  {
   "cell_type": "code",
   "execution_count": 1,
   "id": "91bc876b",
   "metadata": {},
   "outputs": [],
   "source": [
    "import pandas as pd\n",
    "from sklearn.model_selection import train_test_split\n",
    "from sklearn.metrics import accuracy_score\n",
    "pd.options.mode.chained_assignment = None"
   ]
  },
  {
   "cell_type": "code",
   "execution_count": 2,
   "id": "bd280797",
   "metadata": {},
   "outputs": [],
   "source": [
    "titanic_data_path = \"C:/Users/Avisia/Downloads/titanic_data/\" # A changer"
   ]
  },
  {
   "cell_type": "code",
   "execution_count": 3,
   "id": "df10f0a3",
   "metadata": {},
   "outputs": [
    {
     "data": {
      "text/html": [
       "<div>\n",
       "<style scoped>\n",
       "    .dataframe tbody tr th:only-of-type {\n",
       "        vertical-align: middle;\n",
       "    }\n",
       "\n",
       "    .dataframe tbody tr th {\n",
       "        vertical-align: top;\n",
       "    }\n",
       "\n",
       "    .dataframe thead th {\n",
       "        text-align: right;\n",
       "    }\n",
       "</style>\n",
       "<table border=\"1\" class=\"dataframe\">\n",
       "  <thead>\n",
       "    <tr style=\"text-align: right;\">\n",
       "      <th></th>\n",
       "      <th>PassengerId</th>\n",
       "      <th>Survived</th>\n",
       "      <th>Pclass</th>\n",
       "      <th>Name</th>\n",
       "      <th>Sex</th>\n",
       "      <th>Age</th>\n",
       "      <th>SibSp</th>\n",
       "      <th>Parch</th>\n",
       "      <th>Ticket</th>\n",
       "      <th>Fare</th>\n",
       "      <th>Cabin</th>\n",
       "      <th>Embarked</th>\n",
       "    </tr>\n",
       "  </thead>\n",
       "  <tbody>\n",
       "    <tr>\n",
       "      <th>0</th>\n",
       "      <td>1</td>\n",
       "      <td>0</td>\n",
       "      <td>3</td>\n",
       "      <td>Braund, Mr. Owen Harris</td>\n",
       "      <td>male</td>\n",
       "      <td>22.0</td>\n",
       "      <td>1</td>\n",
       "      <td>0</td>\n",
       "      <td>A/5 21171</td>\n",
       "      <td>7.2500</td>\n",
       "      <td>NaN</td>\n",
       "      <td>S</td>\n",
       "    </tr>\n",
       "    <tr>\n",
       "      <th>1</th>\n",
       "      <td>2</td>\n",
       "      <td>1</td>\n",
       "      <td>1</td>\n",
       "      <td>Cumings, Mrs. John Bradley (Florence Briggs Th...</td>\n",
       "      <td>female</td>\n",
       "      <td>38.0</td>\n",
       "      <td>1</td>\n",
       "      <td>0</td>\n",
       "      <td>PC 17599</td>\n",
       "      <td>71.2833</td>\n",
       "      <td>C85</td>\n",
       "      <td>C</td>\n",
       "    </tr>\n",
       "    <tr>\n",
       "      <th>2</th>\n",
       "      <td>3</td>\n",
       "      <td>1</td>\n",
       "      <td>3</td>\n",
       "      <td>Heikkinen, Miss. Laina</td>\n",
       "      <td>female</td>\n",
       "      <td>26.0</td>\n",
       "      <td>0</td>\n",
       "      <td>0</td>\n",
       "      <td>STON/O2. 3101282</td>\n",
       "      <td>7.9250</td>\n",
       "      <td>NaN</td>\n",
       "      <td>S</td>\n",
       "    </tr>\n",
       "    <tr>\n",
       "      <th>3</th>\n",
       "      <td>4</td>\n",
       "      <td>1</td>\n",
       "      <td>1</td>\n",
       "      <td>Futrelle, Mrs. Jacques Heath (Lily May Peel)</td>\n",
       "      <td>female</td>\n",
       "      <td>35.0</td>\n",
       "      <td>1</td>\n",
       "      <td>0</td>\n",
       "      <td>113803</td>\n",
       "      <td>53.1000</td>\n",
       "      <td>C123</td>\n",
       "      <td>S</td>\n",
       "    </tr>\n",
       "    <tr>\n",
       "      <th>4</th>\n",
       "      <td>5</td>\n",
       "      <td>0</td>\n",
       "      <td>3</td>\n",
       "      <td>Allen, Mr. William Henry</td>\n",
       "      <td>male</td>\n",
       "      <td>35.0</td>\n",
       "      <td>0</td>\n",
       "      <td>0</td>\n",
       "      <td>373450</td>\n",
       "      <td>8.0500</td>\n",
       "      <td>NaN</td>\n",
       "      <td>S</td>\n",
       "    </tr>\n",
       "  </tbody>\n",
       "</table>\n",
       "</div>"
      ],
      "text/plain": [
       "   PassengerId  Survived  Pclass  \\\n",
       "0            1         0       3   \n",
       "1            2         1       1   \n",
       "2            3         1       3   \n",
       "3            4         1       1   \n",
       "4            5         0       3   \n",
       "\n",
       "                                                Name     Sex   Age  SibSp  \\\n",
       "0                            Braund, Mr. Owen Harris    male  22.0      1   \n",
       "1  Cumings, Mrs. John Bradley (Florence Briggs Th...  female  38.0      1   \n",
       "2                             Heikkinen, Miss. Laina  female  26.0      0   \n",
       "3       Futrelle, Mrs. Jacques Heath (Lily May Peel)  female  35.0      1   \n",
       "4                           Allen, Mr. William Henry    male  35.0      0   \n",
       "\n",
       "   Parch            Ticket     Fare Cabin Embarked  \n",
       "0      0         A/5 21171   7.2500   NaN        S  \n",
       "1      0          PC 17599  71.2833   C85        C  \n",
       "2      0  STON/O2. 3101282   7.9250   NaN        S  \n",
       "3      0            113803  53.1000  C123        S  \n",
       "4      0            373450   8.0500   NaN        S  "
      ]
     },
     "execution_count": 3,
     "metadata": {},
     "output_type": "execute_result"
    }
   ],
   "source": [
    "df = pd.read_csv(titanic_data_path + \"train.csv\")\n",
    "df.head()"
   ]
  },
  {
   "cell_type": "markdown",
   "id": "35fa1a31",
   "metadata": {},
   "source": [
    "## Dictionnaire de variables"
   ]
  },
  {
   "cell_type": "markdown",
   "id": "b146caa1",
   "metadata": {},
   "source": [
    "- **PassengerId**: Id du passager\n",
    "- **Survived**: Le passager a survécu ? 1: Oui; 0: Non\n",
    "- **Pclass**: Classe du passager (1ère, 2ème, etc.)\n",
    "- **Name**: Nom\n",
    "- **Sex**: Sexe\n",
    "- **Age**: Âge\n",
    "- **SibSp**: Nombre de frères/soeurs/conjoints à bord\n",
    "- **Parch**: Nombre de parents/enfants à bord\n",
    "- **Ticket**: Numéro du ticket\n",
    "- **Fare**: Prix payé par le ticket\n",
    "- **Cabin**: Numéro de la cabine\n",
    "- **Embarked**: Port où le passager a embarqué"
   ]
  },
  {
   "cell_type": "markdown",
   "id": "8f46b112",
   "metadata": {},
   "source": [
    "# Preprocessing"
   ]
  },
  {
   "cell_type": "code",
   "execution_count": 4,
   "id": "cfd2cb43",
   "metadata": {},
   "outputs": [],
   "source": [
    "def preprocessing(data):\n",
    "    dummies = pd.get_dummies(data['Sex'])\n",
    "    data = pd.concat([data, dummies], axis=1)\n",
    "    \n",
    "    data['Age'] = data['Age'].fillna(0) # doit-on vraiment remplacer NA par 0 ici ?\n",
    "    data['Fare'] = data['Fare'].fillna(0) # doit-on vraiment remplacer NA par 0 ici ?\n",
    "    # à developper\n",
    "    \n",
    "    return data"
   ]
  },
  {
   "cell_type": "code",
   "execution_count": 5,
   "id": "4e53734e",
   "metadata": {},
   "outputs": [],
   "source": [
    "df = preprocessing(df)"
   ]
  },
  {
   "cell_type": "markdown",
   "id": "8342e700",
   "metadata": {},
   "source": [
    "# Apprentissage non-supervisé"
   ]
  },
  {
   "cell_type": "code",
   "execution_count": null,
   "id": "80f0f629",
   "metadata": {},
   "outputs": [],
   "source": []
  },
  {
   "cell_type": "markdown",
   "id": "b5961f6a",
   "metadata": {},
   "source": [
    "# Modélisation"
   ]
  },
  {
   "cell_type": "code",
   "execution_count": 6,
   "id": "08aea5a2",
   "metadata": {},
   "outputs": [],
   "source": [
    "variables_explicatives = ['Age','female','male','Fare','Pclass','SibSp','Parch'] # à changer"
   ]
  },
  {
   "cell_type": "code",
   "execution_count": 7,
   "id": "54f5c40a",
   "metadata": {},
   "outputs": [],
   "source": [
    "X = df[variables_explicatives]\n",
    "y = df['Survived']\n",
    "seed = 42\n",
    "test_size = 0.3\n",
    "\n",
    "means = {col : X[col].mean() for col in X.columns}\n",
    "\n",
    "X_train, X_test, y_train, y_test = train_test_split(X, y, test_size=test_size, random_state=seed)"
   ]
  },
  {
   "cell_type": "markdown",
   "id": "92ed35e9",
   "metadata": {},
   "source": [
    "## Régression logistique"
   ]
  },
  {
   "cell_type": "code",
   "execution_count": 8,
   "id": "5cf8b749",
   "metadata": {},
   "outputs": [
    {
     "name": "stdout",
     "output_type": "stream",
     "text": [
      "LogisticRegression(max_iter=10000, random_state=42)\n",
      "Accuracy: 79.85%\n"
     ]
    }
   ],
   "source": [
    "from sklearn.linear_model import LogisticRegression\n",
    "\n",
    "lr = LogisticRegression(\n",
    "    random_state=seed,\n",
    "    max_iter = 10000\n",
    ")\n",
    "lr.fit(X_train, y_train)\n",
    "\n",
    "y_pred = lr.predict(X_test)\n",
    "lr_accuracy = accuracy_score(y_test, y_pred)\n",
    "\n",
    "print(lr)\n",
    "print(\"Accuracy: %.2f%%\" % (lr_accuracy * 100.0))"
   ]
  },
  {
   "cell_type": "code",
   "execution_count": null,
   "id": "cb40cacb",
   "metadata": {},
   "outputs": [],
   "source": []
  },
  {
   "cell_type": "markdown",
   "id": "b10795bb",
   "metadata": {},
   "source": [
    "# Cross-validation"
   ]
  },
  {
   "cell_type": "code",
   "execution_count": null,
   "id": "b8c96454",
   "metadata": {},
   "outputs": [],
   "source": []
  },
  {
   "cell_type": "markdown",
   "id": "e40f11e1",
   "metadata": {},
   "source": [
    "# Soumission"
   ]
  },
  {
   "cell_type": "markdown",
   "id": "f3e80c3f",
   "metadata": {},
   "source": [
    "La soumission des prédictions, c'est par [ici](https://www.kaggle.com/c/titanic). <br>\n",
    "Elle doit être en mode binaire (0/1) et pas en probabilité."
   ]
  },
  {
   "cell_type": "code",
   "execution_count": 9,
   "id": "2093b3c2",
   "metadata": {},
   "outputs": [],
   "source": [
    "model = lr # ici on choisit le modèle à être utilisé"
   ]
  },
  {
   "cell_type": "code",
   "execution_count": 11,
   "id": "123451e8",
   "metadata": {},
   "outputs": [],
   "source": [
    "submission_input = pd.read_csv(titanic_data_path + \"test.csv\")\n",
    "submission_input = preprocessing(submission_input)\n",
    "submission_X = submission_input[variables_explicatives]\n",
    "submission = model.predict(submission_X)\n",
    "submission_df = pd.DataFrame({'PassengerId':submission_input['PassengerId'],\n",
    " 'Survived':submission})\n",
    "submission_df.to_csv('submission.csv', index = False)"
   ]
  }
 ],
 "metadata": {
  "kernelspec": {
   "display_name": "Python 3",
   "language": "python",
   "name": "python3"
  },
  "language_info": {
   "codemirror_mode": {
    "name": "ipython",
    "version": 3
   },
   "file_extension": ".py",
   "mimetype": "text/x-python",
   "name": "python",
   "nbconvert_exporter": "python",
   "pygments_lexer": "ipython3",
   "version": "3.8.8"
  }
 },
 "nbformat": 4,
 "nbformat_minor": 5
}
